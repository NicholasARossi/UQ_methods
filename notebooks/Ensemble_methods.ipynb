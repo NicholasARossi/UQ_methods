{
 "cells": [
  {
   "cell_type": "code",
   "execution_count": 1,
   "metadata": {},
   "outputs": [],
   "source": [
    "%load_ext autoreload\n",
    "%autoreload 2\n",
    "\n",
    "import sys\n",
    "import numpy as np\n",
    "import pandas as pd\n",
    "import matplotlib.pyplot as plt\n",
    "import seaborn as sns\n",
    "import boto3\n",
    "from tqdm.notebook import tqdm\n",
    "plt.style.use('rossidata')\n",
    "from sklearn.model_selection import KFold,train_test_split,LeaveOneOut\n",
    "from sklearn.preprocessing import MinMaxScaler\n",
    "from scipy.stats import sem"
   ]
  },
  {
   "cell_type": "code",
   "execution_count": 31,
   "metadata": {},
   "outputs": [],
   "source": [
    "# load ML packages\n",
    "from sklearn.model_selection import KFold,train_test_split,LeaveOneOut,StratifiedKFold,StratifiedShuffleSplit,GridSearchCV\n",
    "from sklearn.linear_model import LinearRegression\n",
    "import lightgbm as lgb\n",
    "from sklearn.metrics import mean_squared_error\n",
    "from scipy.stats import spearmanr\n",
    "import shap"
   ]
  },
  {
   "cell_type": "markdown",
   "metadata": {},
   "source": [
    "# Load Boston housing dataset "
   ]
  },
  {
   "cell_type": "code",
   "execution_count": 24,
   "metadata": {},
   "outputs": [],
   "source": [
    "from sklearn.datasets import load_boston"
   ]
  },
  {
   "cell_type": "code",
   "execution_count": 26,
   "metadata": {},
   "outputs": [],
   "source": [
    "X, y = load_boston(return_X_y=True)\n",
    "X_dataset, X_holdout, y_dataset, y_holdout = train_test_split(X, y, test_size=0.1, random_state=42)\n"
   ]
  },
  {
   "cell_type": "code",
   "execution_count": null,
   "metadata": {},
   "outputs": [],
   "source": [
    "# Determine Base Model Parameters via Gridsearch CV"
   ]
  },
  {
   "cell_type": "code",
   "execution_count": null,
   "metadata": {},
   "outputs": [
    {
     "name": "stdout",
     "output_type": "stream",
     "text": [
      "Fitting 5 folds for each of 1152 candidates, totalling 5760 fits\n"
     ]
    },
    {
     "name": "stderr",
     "output_type": "stream",
     "text": [
      "[Parallel(n_jobs=-1)]: Using backend LokyBackend with 4 concurrent workers.\n",
      "[Parallel(n_jobs=-1)]: Done  42 tasks      | elapsed:   10.1s\n",
      "[Parallel(n_jobs=-1)]: Done 192 tasks      | elapsed:   54.0s\n",
      "[Parallel(n_jobs=-1)]: Done 442 tasks      | elapsed:  1.7min\n",
      "[Parallel(n_jobs=-1)]: Done 792 tasks      | elapsed:  2.8min\n",
      "[Parallel(n_jobs=-1)]: Done 1242 tasks      | elapsed:  4.1min\n",
      "[Parallel(n_jobs=-1)]: Done 1792 tasks      | elapsed:  6.1min\n"
     ]
    }
   ],
   "source": [
    "params = {\n",
    "    'num_leaves': 50,\n",
    "    'metric': ['l1', 'l2'],\n",
    "    'verbose': -1,\n",
    "    'learning_rate': 0.05,\n",
    "    'lambda_l2': 1,\n",
    "    'drop_rate': 0.1,\n",
    "    'seed': 123,\n",
    "    'objective':'regression'\n",
    "}\n",
    "mdl = lgb.LGBMRegressor(params,\n",
    "            num_boost_round=800,\n",
    "            )\n",
    "\n",
    "\n",
    "\n",
    "\n",
    "\n",
    "gridParams = {\n",
    "    'learning_rate': [ 0.025,0.05,0.1],\n",
    "    'num_leaves': [25,50,75],\n",
    "    'n_estimators': [4,8,16,24],\n",
    "    'boosting_type' : ['gbdt','dart'],\n",
    "    'objective' : ['regression'],\n",
    "    'lambda_l2': [0,1,1.2,1.4],\n",
    "    'lambda_l1': [0,1,1.2,1.4]\n",
    "    \n",
    "}\n",
    "\n",
    "\n",
    "\n",
    "\n",
    "grid = GridSearchCV(mdl, gridParams, verbose=1, cv=5,n_jobs=-1,scoring='neg_mean_squared_error')\n",
    "\n",
    "grid.fit(X, y)\n"
   ]
  },
  {
   "cell_type": "code",
   "execution_count": 34,
   "metadata": {},
   "outputs": [
    {
     "name": "stdout",
     "output_type": "stream",
     "text": [
      "{'boosting_type': 'dart', 'lambda_l1': 1.2, 'lambda_l2': 1, 'learning_rate': 0.05, 'n_estimators': 8, 'num_leaves': 25, 'objective': 'regression'} 0.6398232157446168\n"
     ]
    }
   ],
   "source": [
    "print(grid.best_params_, grid.best_score_)\n"
   ]
  },
  {
   "cell_type": "code",
   "execution_count": 15,
   "metadata": {},
   "outputs": [],
   "source": [
    "def train_models(X_dataset,y_dataset,n_splits=5):\n",
    "    params = {\n",
    "        'num_leaves': 50,\n",
    "        'metric': ['l1', 'l2'],\n",
    "        'verbose': -1,\n",
    "        'learning_rate': 0.05,\n",
    "        'lambda_l2': 1,\n",
    "        'drop_rate': 0.1,\n",
    "        'seed': 123,\n",
    "        'objective':'regression'\n",
    "    }\n",
    "\n",
    "    kf = KFold(n_splits=n_splits)\n",
    "\n",
    "    models=[]\n",
    "\n",
    "    for train_index, test_index in kf.split(X_dataset):\n",
    "        X_train, X_val, y_train, y_val = X_dataset[train_index,:], X_dataset[test_index,:], y_dataset[train_index], y_dataset[test_index]\n",
    "        lgb_train = lgb.Dataset(X_train, y_train)\n",
    "        lgb_test = lgb.Dataset(X_val, y_val)\n",
    "\n",
    "        gbm = lgb.train(params,\n",
    "                    lgb_train,\n",
    "                    num_boost_round=800,\n",
    "                    valid_sets=[lgb_test],\n",
    "                    early_stopping_rounds=20,\n",
    "                    verbose_eval=0\n",
    "                    )\n",
    "        models.append(gbm)\n",
    "    return models\n",
    "\n",
    "class predictor():\n",
    "    def __init__(self,models):\n",
    "        self.models=models\n",
    "        \n",
    "    def predict(self,X):\n",
    "        predictions=[]\n",
    "        for model in self.models:\n",
    "            predictions.append(model.predict(X))\n",
    "        \n",
    "        # Values chosen by median committe\n",
    "        ensemble_predictions =np.median(np.stack(predictions, axis=0) ,axis=0)\n",
    "        ensemble_uncertainty=np.std(np.stack(predictions, axis=0) ,axis=0)\n",
    "        \n",
    "        return {'prediction':ensemble_predictions,'uncertainty':ensemble_uncertainty}"
   ]
  },
  {
   "cell_type": "code",
   "execution_count": 22,
   "metadata": {},
   "outputs": [
    {
     "data": {
      "application/vnd.jupyter.widget-view+json": {
       "model_id": "3b7097a3381744889ca460237b33240c",
       "version_major": 2,
       "version_minor": 0
      },
      "text/plain": [
       "HBox(children=(FloatProgress(value=0.0, max=48.0), HTML(value='')))"
      ]
     },
     "metadata": {},
     "output_type": "display_data"
    },
    {
     "name": "stdout",
     "output_type": "stream",
     "text": [
      "\n"
     ]
    }
   ],
   "source": [
    "# volatility as a function of splitting\n",
    "\n",
    "MSE=[]\n",
    "uncertainty=[]\n",
    "# k_values=np.arange(2,len(X_dataset))\n",
    "k_values=np.arange(2,50)\n",
    "uncertainty_dict={}\n",
    "\n",
    "for k in tqdm(k_values):\n",
    "    models=train_models(X_dataset,y_dataset,n_splits=k)   \n",
    "    committee=predictor(models)\n",
    "    \n",
    "\n",
    "    predicted_vals =committee.predict(X_holdout)['prediction']\n",
    "\n",
    "    MSE.append(mean_squared_error(y_holdout,predicted_vals))\n",
    "    \n",
    "    uncertainty_vals =committee.predict(X_holdout)['uncertainty']\n",
    "    uncertainty_dict[str(k)]=uncertainty_vals\n",
    "    \n",
    "    uncertainty.append(uncertainty_vals)"
   ]
  },
  {
   "cell_type": "code",
   "execution_count": 23,
   "metadata": {},
   "outputs": [
    {
     "data": {
      "text/plain": [
       "Text(0, 0.5, 'Average Uncertainty of Predictions')"
      ]
     },
     "execution_count": 23,
     "metadata": {},
     "output_type": "execute_result"
    },
    {
     "data": {
      "image/png": "[encoded data removed]",
      "text/plain": [
       "<Figure size 864x288 with 2 Axes>"
      ]
     },
     "metadata": {
      "needs_background": "light"
     },
     "output_type": "display_data"
    }
   ],
   "source": [
    "fig,ax=plt.subplots(1,2,figsize=(12,4))\n",
    "\n",
    "ax[0].plot(k_values,MSE)\n",
    "y=pd.DataFrame(uncertainty_dict).mean()\n",
    "\n",
    "error=np.std(pd.DataFrame(uncertainty_dict))\n",
    "\n",
    "ax[1].fill_between(k_values, y-error, y+error)\n",
    "ax[1].plot(k_values,y,color='black')\n",
    "ax[1].set_xlabel('Number of k-folds')\n",
    "ax[1].set_ylabel('Average Uncertainty of Predictions')"
   ]
  },
  {
   "cell_type": "code",
   "execution_count": null,
   "metadata": {},
   "outputs": [],
   "source": []
  }
 ],
 "metadata": {
  "kernelspec": {
   "display_name": "Python 3",
   "language": "python",
   "name": "python3"
  },
  "language_info": {
   "codemirror_mode": {
    "name": "ipython",
    "version": 3
   },
   "file_extension": ".py",
   "mimetype": "text/x-python",
   "name": "python",
   "nbconvert_exporter": "python",
   "pygments_lexer": "ipython3",
   "version": "3.7.2"
  }
 },
 "nbformat": 4,
 "nbformat_minor": 2
}
