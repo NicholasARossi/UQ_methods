{
 "cells": [
  {
   "cell_type": "code",
   "execution_count": 4,
   "metadata": {},
   "outputs": [
    {
     "name": "stdout",
     "output_type": "stream",
     "text": [
      "The autoreload extension is already loaded. To reload it, use:\n",
      "  %reload_ext autoreload\n"
     ]
    }
   ],
   "source": [
    "%load_ext autoreload\n",
    "%autoreload 2\n",
    "\n",
    "import sys\n",
    "import numpy as np\n",
    "import pandas as pd\n",
    "import matplotlib.pyplot as plt\n",
    "import seaborn as sns\n",
    "import boto3\n",
    "from tqdm.notebook import tqdm\n",
    "plt.style.use('rossidata')\n",
    "from sklearn.model_selection import KFold,train_test_split,LeaveOneOut\n"
   ]
  },
  {
   "cell_type": "code",
   "execution_count": 5,
   "metadata": {},
   "outputs": [],
   "source": [
    "from sklearn.datasets import load_boston"
   ]
  },
  {
   "cell_type": "code",
   "execution_count": 6,
   "metadata": {},
   "outputs": [],
   "source": [
    "X, y = load_boston(return_X_y=True)\n",
    "X_dataset, X_holdout, y_dataset, y_holdout = train_test_split(X, y, test_size=0.1, random_state=42)\n"
   ]
  },
  {
   "cell_type": "code",
   "execution_count": null,
   "metadata": {},
   "outputs": [],
   "source": [
    "def create_poly_modelspec(k=1,features=['cut2mut']):\n",
    "    '''\n",
    "    Convenience function:\n",
    "    Create a polynomial modelspec string \n",
    "    '''\n",
    "    \n",
    "    formula='hdr_pct ~ '\n",
    "    for n,feature in enumerate(features):\n",
    "        if n==0:\n",
    "            formula+=feature+' '+' '.join([' + np.power({},{})'.format(feature,j)\n",
    "                                         for j in range(2,k+1)]).strip()\n",
    "        else:\n",
    "            formula+=' + '+feature+' '+' '.join([' + np.power({},{})'.format(feature,j)\n",
    "                                         for j in range(2,k+1)]).strip()\n",
    "\n",
    "    return formula\n",
    "\n",
    "def model_factory(x, y):\n",
    "    all_data=X.copy()\n",
    "    all_data['hdr_pct']=y\n",
    "    formula=create_poly_modelspec(k=1,features=['cut2mut','donor_arm_left','donor_arm_right'])\n",
    "    with pm.Model() as model:\n",
    "\n",
    "        # The prior for the data likelihood is a Normal Distribution\n",
    "        family = pm.glm.families.StudentT(scale=3)\n",
    "\n",
    "        # Creating the model requires a formula and data (and optionally a family)\n",
    "        pm.GLM.from_formula(formula, data = all_data,family=family)\n",
    "\n",
    "    return model\n",
    "\n",
    "\n",
    "# Perform the training to get the trace\n",
    "with model_factory(X_dataset, y_dataset) as model:\n",
    "    train_trace = pm.sample(draws=2000, chains = 2, tune = 1000)\n",
    "    pm.traceplot(train_trace)\n",
    "    pm.plot_posterior(train_trace)\n",
    "    ppc = pm.sample_posterior_predictive(train_trace)\n",
    "    train_predictions=ppc['y']\n",
    "    assert(np.shape(train_predictions)[1]==len(y_dataset))\n",
    "  \n",
    "with model_factory(X_holdout, y_holdout) as test_model:\n",
    "    ppc = pm.sample_posterior_predictive(train_trace)\n",
    "    holdout_predictions=ppc['y']\n",
    "    assert(np.shape(holdout_predictions)[1]==len(y_holdout))"
   ]
  }
 ],
 "metadata": {
  "kernelspec": {
   "display_name": "Python 3",
   "language": "python",
   "name": "python3"
  },
  "language_info": {
   "codemirror_mode": {
    "name": "ipython",
    "version": 3
   },
   "file_extension": ".py",
   "mimetype": "text/x-python",
   "name": "python",
   "nbconvert_exporter": "python",
   "pygments_lexer": "ipython3",
   "version": "3.7.2"
  }
 },
 "nbformat": 4,
 "nbformat_minor": 2
}
